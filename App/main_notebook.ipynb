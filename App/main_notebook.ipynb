{
 "cells": [
  {
   "cell_type": "code",
   "execution_count": 18,
   "id": "cc60b56d",
   "metadata": {},
   "outputs": [],
   "source": [
    "import os\n",
    "import xml.etree.ElementTree as ET\n",
    "from PIL import Image, ImageDraw\n",
    "import numpy as np"
   ]
  },
  {
   "cell_type": "code",
   "execution_count": 19,
   "id": "50f2b794",
   "metadata": {},
   "outputs": [],
   "source": [
    "PATH_TO_DATASETS = os.path.join(os.getcwd(), \"..\", \"Datasets\")\n",
    "PATH_TO_DATASETS = os.path.abspath(PATH_TO_DATASETS)"
   ]
  },
  {
   "cell_type": "code",
   "execution_count": null,
   "id": "92ab6c22",
   "metadata": {},
   "outputs": [],
   "source": [
    "def parse_pascal_xml(xml_path):\n",
    "    root = ET.parse(xml_path).getroot()\n",
    "    objs = []\n",
    "    for obj in root.findall('object'):\n",
    "        name = obj.findtext('name', default='object')\n",
    "        bnd = obj.find('bndbox')\n",
    "        if bnd is not None:\n",
    "            xmin = int(float(bnd.findtext('xmin')))\n",
    "            ymin = int(float(bnd.findtext('ymin')))\n",
    "            xmax = int(float(bnd.findtext('xmax')))\n",
    "            ymax = int(float(bnd.findtext('ymax')))\n",
    "            objs.append({'type':'bndbox','xmin':xmin,'ymin':ymin,'xmax':xmax,'ymax':ymax,'name':name})\n",
    "            continue\n",
    "        poly = obj.find('polygon') or obj.find('segmentation') or obj.find('points')\n",
    "        if poly is not None:\n",
    "            pts = []\n",
    "            for pt in poly.findall('pt'):\n",
    "                x = int(float(pt.findtext('x'))); y = int(float(pt.findtext('y')))\n",
    "                pts.append((x,y))\n",
    "            if not pts:\n",
    "                xs = [p.text for p in poly.findall('x')]\n",
    "                ys = [p.text for p in poly.findall('y')]\n",
    "                if xs and ys and len(xs)==len(ys):\n",
    "                    pts = [(int(float(x)), int(float(y))) for x,y in zip(xs,ys)]\n",
    "                else:\n",
    "                    txt = poly.text\n",
    "                    if txt:\n",
    "                        for pair in txt.strip().split():\n",
    "                            px,py = pair.strip().split(',')\n",
    "                            pts.append((int(float(px)), int(float(py))))\n",
    "            if pts:\n",
    "                objs.append({'type':'polygon','points':pts,'name':name})\n",
    "                continue\n",
    "    return objs\n",
    "\n",
    "def create_mask_for_class(image_size, annots, class_name):\n",
    "    H, W = image_size\n",
    "    mask = Image.new('L', (W, H), 0)\n",
    "    draw = ImageDraw.Draw(mask)\n",
    "    for a in annots:\n",
    "        if a.get('name') != class_name:\n",
    "            continue\n",
    "        if a['type'] == 'bndbox':\n",
    "            draw.rectangle([a['xmin'], a['ymin'], a['xmax'], a['ymax']], fill=1)\n",
    "        elif a['type'] == 'polygon':\n",
    "            draw.polygon(a['points'], fill=1)\n",
    "    return np.array(mask, dtype=np.uint8)\n",
    "\n",
    "def collect_classes_from_xmls(xml_dir):\n",
    "    classes = set()\n",
    "    if not os.path.exists(xml_dir):\n",
    "        return []\n",
    "    for fname in os.listdir(xml_dir):\n",
    "        if not fname.lower().endswith('.xml'):\n",
    "            continue\n",
    "        xml_path = os.path.join(xml_dir, fname)\n",
    "        try:\n",
    "            objs = parse_pascal_xml(xml_path)\n",
    "        except Exception as e:\n",
    "            print(f\"Warning: failed to parse {xml_path}: {e}\")\n",
    "            continue\n",
    "        for o in objs:\n",
    "            classes.add(o.get('name','object'))\n",
    "    return sorted(classes)"
   ]
  },
  {
   "cell_type": "code",
   "execution_count": null,
   "id": "622d7d2d",
   "metadata": {},
   "outputs": [],
   "source": [
    "def generate_masks_for_dataset(current_dataset: str, dataset_split_type: str, background_mask: bool = True):\n",
    "    images_dir = os.path.join(PATH_TO_DATASETS, current_dataset, f\"{dataset_split_type}_images\")\n",
    "    xml_dir = os.path.join(PATH_TO_DATASETS, current_dataset, f\"{dataset_split_type}_annots\")\n",
    "    masks_out_root = os.path.join(PATH_TO_DATASETS, current_dataset, f\"{dataset_split_type}_masks\")\n",
    "\n",
    "    classes = collect_classes_from_xmls(xml_dir)\n",
    "    for c in classes:\n",
    "        os.makedirs(os.path.join(masks_out_root, c), exist_ok=True)\n",
    "\n",
    "    for fname in sorted(os.listdir(images_dir)):\n",
    "        if not fname.lower().endswith(('.png','.jpg','.jpeg','tif', '.tiff')):\n",
    "            continue\n",
    "        base = os.path.splitext(fname)[0]\n",
    "        img_path = os.path.join(images_dir, fname)\n",
    "        xml_path = os.path.join(xml_dir, base + '.xml')\n",
    "\n",
    "        img = Image.open(img_path).convert('RGB')\n",
    "\n",
    "        W, H = img.size\n",
    "        annots = parse_pascal_xml(xml_path)\n",
    "\n",
    "        present_classes = {a['name'] for a in annots if 'name' in a}\n",
    "        for cls in present_classes:\n",
    "            mask_np = create_mask_for_class((H, W), annots, cls)\n",
    "            if mask_np.sum() == 0:\n",
    "                continue\n",
    "            if background_mask:\n",
    "                mask_np = 1 - mask_np\n",
    "            out_fname = f\"{base}.png\"\n",
    "            out_path = os.path.join(masks_out_root, cls, out_fname)\n",
    "            out_img = (mask_np * 255).astype(np.uint8)\n",
    "            Image.fromarray(out_img).save(out_path)\n",
    "\n",
    "    print(f\"Masks written to: {masks_out_root}. Classes: {len(classes)}\")"
   ]
  },
  {
   "cell_type": "code",
   "execution_count": 22,
   "id": "e55ffe24",
   "metadata": {},
   "outputs": [
    {
     "name": "stdout",
     "output_type": "stream",
     "text": [
      "Done. Masks written to: c:\\Users\\jokub\\Desktop\\Tiriamasis grupinis\\NesvarbuSefoSpecialus\\Datasets\\UAV 1\\train_masks. Classes: 10\n",
      "Done. Masks written to: c:\\Users\\jokub\\Desktop\\Tiriamasis grupinis\\NesvarbuSefoSpecialus\\Datasets\\UAV 1\\test_masks. Classes: 9\n",
      "Done. Masks written to: c:\\Users\\jokub\\Desktop\\Tiriamasis grupinis\\NesvarbuSefoSpecialus\\Datasets\\UAV 1\\valid_masks. Classes: 10\n"
     ]
    }
   ],
   "source": [
    "generate_masks_for_dataset(current_dataset=\"UAV 1\", dataset_split_type=\"train\", background_mask=True)\n",
    "generate_masks_for_dataset(current_dataset=\"UAV 1\", dataset_split_type=\"test\", background_mask=True)\n",
    "generate_masks_for_dataset(current_dataset=\"UAV 1\", dataset_split_type=\"valid\", background_mask=True)"
   ]
  },
  {
   "cell_type": "code",
   "execution_count": null,
   "id": "1bc623c5",
   "metadata": {},
   "outputs": [],
   "source": []
  }
 ],
 "metadata": {
  "kernelspec": {
   "display_name": "bib",
   "language": "python",
   "name": "python3"
  },
  "language_info": {
   "codemirror_mode": {
    "name": "ipython",
    "version": 3
   },
   "file_extension": ".py",
   "mimetype": "text/x-python",
   "name": "python",
   "nbconvert_exporter": "python",
   "pygments_lexer": "ipython3",
   "version": "3.13.2"
  }
 },
 "nbformat": 4,
 "nbformat_minor": 5
}
